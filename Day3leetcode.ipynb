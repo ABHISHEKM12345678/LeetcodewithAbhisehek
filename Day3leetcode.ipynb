{
  "nbformat": 4,
  "nbformat_minor": 0,
  "metadata": {
    "colab": {
      "provenance": [],
      "authorship_tag": "ABX9TyNpiJlf6M0jQKHjnRuIt+eB",
      "include_colab_link": true
    },
    "kernelspec": {
      "name": "python3",
      "display_name": "Python 3"
    },
    "language_info": {
      "name": "python"
    }
  },
  "cells": [
    {
      "cell_type": "markdown",
      "metadata": {
        "id": "view-in-github",
        "colab_type": "text"
      },
      "source": [
        "<a href=\"https://colab.research.google.com/github/ABHISHEKM12345678/LeetcodewithAbhisehek/blob/main/Day3leetcode.ipynb\" target=\"_parent\"><img src=\"https://colab.research.google.com/assets/colab-badge.svg\" alt=\"Open In Colab\"/></a>"
      ]
    },
    {
      "cell_type": "markdown",
      "source": [
        "# 📅 Day 3 – LeetCode #3: Longest Substring Without Repeating Characters  \n",
        "\n",
        "### Problem\n",
        "Given a string `s`, find the length of the **longest substring** without repeating characters.\n",
        "\n",
        "---\n",
        "\n",
        "### Examples\n",
        "- Input: `s = \"abcabcbb\"`  \n",
        "  Output: `3`  \n",
        "  Explanation: \"abc\" is the longest substring.  \n",
        "\n",
        "- Input: `s = \"bbbbb\"`  \n",
        "  Output: `1`  \n",
        "  Explanation: \"b\" is the longest substring.  \n",
        "\n",
        "- Input: `s = \"pwwkew\"`  \n",
        "  Output: `3`  \n",
        "  Explanation: \"wke\" is the longest substring.  \n",
        "\n",
        "---\n",
        "\n",
        "### 🔑 Approach: Sliding Window + HashMap\n",
        "1. Use two pointers `left` and `right` for a sliding window.  \n",
        "2. Use a dictionary to store the **last seen index** of each character.  \n",
        "3. If a duplicate appears, move `left` to one index after the last duplicate.  \n",
        "4. Update the maximum length of the window as we expand.  \n",
        "\n",
        "---\n",
        "\n",
        "### ⏱️ Complexity\n",
        "- **Time:** O(n) (each character visited at most twice).  \n",
        "- **Space:** O(min(n, m)) (dict stores last seen index).  \n"
      ],
      "metadata": {
        "id": "e1LXgTwPlIcq"
      }
    },
    {
      "cell_type": "code",
      "execution_count": 1,
      "metadata": {
        "colab": {
          "base_uri": "https://localhost:8080/"
        },
        "id": "Y9PtylTjlHcz",
        "outputId": "138899b2-77a2-4b21-a790-6492575939d9"
      },
      "outputs": [
        {
          "output_type": "stream",
          "name": "stdout",
          "text": [
            "3\n",
            "1\n",
            "3\n"
          ]
        }
      ],
      "source": [
        "class Solution:\n",
        "    def lengthOfLongestSubstring(self, s: str) -> int:\n",
        "        n = len(s)\n",
        "        maximum = left = right = 0\n",
        "        my_dict = {}\n",
        "\n",
        "        while right < n:\n",
        "            if s[right] in my_dict:\n",
        "                # move left pointer to avoid duplicates\n",
        "                left = max(left, my_dict[s[right]] + 1)\n",
        "\n",
        "            # update max length\n",
        "            maximum = max(maximum, right - left + 1)\n",
        "\n",
        "            # store/update the last index of the character\n",
        "            my_dict[s[right]] = right\n",
        "            right += 1\n",
        "\n",
        "        return maximum\n",
        "\n",
        "# 🔹 Test Cases\n",
        "sol = Solution()\n",
        "print(sol.lengthOfLongestSubstring(\"abcabcbb\"))  # Expected 3\n",
        "print(sol.lengthOfLongestSubstring(\"bbbbb\"))     # Expected 1\n",
        "print(sol.lengthOfLongestSubstring(\"pwwkew\"))    # Expected 3\n"
      ]
    }
  ]
}