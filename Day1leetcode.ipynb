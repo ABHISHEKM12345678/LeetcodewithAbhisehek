{
  "nbformat": 4,
  "nbformat_minor": 0,
  "metadata": {
    "colab": {
      "provenance": [],
      "authorship_tag": "ABX9TyPuVKHco1e75ef3imj/m+ih",
      "include_colab_link": true
    },
    "kernelspec": {
      "name": "python3",
      "display_name": "Python 3"
    },
    "language_info": {
      "name": "python"
    }
  },
  "cells": [
    {
      "cell_type": "markdown",
      "metadata": {
        "id": "view-in-github",
        "colab_type": "text"
      },
      "source": [
        "<a href=\"https://colab.research.google.com/github/ABHISHEKM12345678/LeetcodewithAbhisehek/blob/main/Day1leetcode.ipynb\" target=\"_parent\"><img src=\"https://colab.research.google.com/assets/colab-badge.svg\" alt=\"Open In Colab\"/></a>"
      ]
    },
    {
      "cell_type": "markdown",
      "source": [
        "\n",
        "1.Two Sum\n",
        "\n",
        "Given an array of integers nums and an integer target, return indices of the two numbers such that they add up to target.\n",
        "\n",
        "You may assume that each input would have exactly one solution, and you may not use the same element twice.\n",
        "\n",
        "You can return the answer in any order.\n",
        "\n",
        "\n",
        "\n",
        "Example 1:\n",
        "\n",
        "Input: nums = [2,7,11,15], target = 9\n",
        "Output: [0,1]\n",
        "Explanation: Because nums[0] + nums[1] == 9, we return [0, 1].\n",
        "Example 2:\n",
        "\n",
        "Input: nums = [3,2,4], target = 6\n",
        "Output: [1,2]\n",
        "Example 3:\n",
        "\n",
        "Input: nums = [3,3], target = 6\n",
        "Output: [0,1]\n",
        ""
      ],
      "metadata": {
        "id": "OcDC8qZGSg9w"
      }
    },
    {
      "cell_type": "markdown",
      "source": [
        "# Two Sum Problem – Optimized Solution using Dictionary\n",
        "\n",
        "The **Two Sum problem** asks:\n",
        "\n",
        "> Given an array of integers `nums` and an integer `target`, find the **indices of two numbers** in the array that add up to the `target`.  \n",
        "\n",
        "We use a **dictionary (hashmap)** to store numbers we have already seen along with their indices. This allows us to check for the required complement in **constant time**.\n"
      ],
      "metadata": {
        "id": "igHOBZVjVICN"
      }
    },
    {
      "cell_type": "code",
      "source": [
        "\n",
        "class Solution(object):\n",
        "    def twoSum(self, nums, target):\n",
        "        seen = {}  # Dictionary to store numbers and their indices\n",
        "        for i, num in enumerate(nums):  # Loop through the list with index\n",
        "            complement = target - num    # Calculate the number needed to reach the target\n",
        "            if complement in seen:       # Check if we have seen this number before\n",
        "                return [seen[complement], i]  # If yes, return the indices\n",
        "            seen[num] = i                # Otherwise, store the number with its index\n",
        "\n",
        "# Create an instance of the Solution class and call the twoSum method\n",
        "solution_instance = Solution()\n",
        "result = solution_instance.twoSum([2, 7, 11, 15], 9)  # Input array and target\n",
        "print(result)  # Output the result\n"
      ],
      "metadata": {
        "colab": {
          "base_uri": "https://localhost:8080/"
        },
        "id": "tN5MFDmNVgtK",
        "outputId": "e7a0bde7-dc74-48f9-bb5f-31846231b5c7"
      },
      "execution_count": 1,
      "outputs": [
        {
          "output_type": "stream",
          "name": "stdout",
          "text": [
            "[0, 1]\n"
          ]
        }
      ]
    }
  ]
}