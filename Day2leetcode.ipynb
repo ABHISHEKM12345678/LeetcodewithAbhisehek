{
  "nbformat": 4,
  "nbformat_minor": 0,
  "metadata": {
    "colab": {
      "provenance": [],
      "authorship_tag": "ABX9TyOL4BCalCAohPV/pSXczDH4",
      "include_colab_link": true
    },
    "kernelspec": {
      "name": "python3",
      "display_name": "Python 3"
    },
    "language_info": {
      "name": "python"
    }
  },
  "cells": [
    {
      "cell_type": "markdown",
      "metadata": {
        "id": "view-in-github",
        "colab_type": "text"
      },
      "source": [
        "<a href=\"https://colab.research.google.com/github/ABHISHEKM12345678/LeetcodewithAbhisehek/blob/main/Day2leetcode.ipynb\" target=\"_parent\"><img src=\"https://colab.research.google.com/assets/colab-badge.svg\" alt=\"Open In Colab\"/></a>"
      ]
    },
    {
      "cell_type": "markdown",
      "source": [
        "# Day 2 - Add Two Numbers (LeetCode - Medium)\n",
        "\n",
        "You are given two non-empty linked lists representing two non-negative integers.\n",
        "The digits are stored in reverse order, and each of their nodes contains a single digit.\n",
        "Add the two numbers and return the sum as a linked list.\n",
        "\n",
        "You may assume the two numbers do not contain any leading zero, except the number 0 itself.\n",
        "\n",
        "---\n",
        "\n",
        "### Example 1:\n",
        "Input: l1 = [2,4,3], l2 = [5,6,4]  \n",
        "Output: [7,0,8]  \n",
        "Explanation: 342 + 465 = 807  \n",
        "\n",
        "### Example 2:\n",
        "Input: l1 = [0], l2 = [0]  \n",
        "Output: [0]  \n",
        "\n",
        "### Example 3:\n",
        "Input: l1 = [9,9,9,9,9,9,9], l2 = [9,9,9,9]  \n",
        "Output: [8,9,9,9,0,0,0,1]  \n",
        "\n",
        "---\n",
        "\n",
        "### Constraints:\n",
        "- The number of nodes in each linked list is in the range [1, 100].\n",
        "- 0 <= Node.val <= 9\n",
        "- It is guaranteed that the list represents a number that does not have leading zeros.\n"
      ],
      "metadata": {
        "id": "UVRDLUXbP57d"
      }
    },
    {
      "cell_type": "code",
      "source": [
        "# Day 2 - Add Two Numbers\n",
        "\n",
        "# Definition for singly-linked list\n",
        "class ListNode:\n",
        "    def __init__(self, val=0, next=None):\n",
        "        self.val = val\n",
        "        self.next = next\n",
        "\n",
        "class Solution:\n",
        "    def addTwoNumbers(self, l1, l2):\n",
        "        dummy = ListNode(0)\n",
        "        curr = dummy\n",
        "        carry = 0\n",
        "\n",
        "        while l1 or l2 or carry:\n",
        "            x = l1.val if l1 else 0\n",
        "            y = l2.val if l2 else 0\n",
        "            total = x + y + carry\n",
        "            carry = total // 10\n",
        "\n",
        "            curr.next = ListNode(total % 10)\n",
        "            curr = curr.next\n",
        "\n",
        "            if l1:\n",
        "                l1 = l1.next\n",
        "            if l2:\n",
        "                l2 = l2.next\n",
        "\n",
        "        return dummy.next\n",
        "\n",
        "\n",
        "# ✅ Helper functions for local testing\n",
        "def list_to_linkedlist(arr):\n",
        "    head = ListNode(arr[0])\n",
        "    curr = head\n",
        "    for num in arr[1:]:\n",
        "        curr.next = ListNode(num)\n",
        "        curr = curr.next\n",
        "    return head\n",
        "\n",
        "def linkedlist_to_list(node):\n",
        "    result = []\n",
        "    while node:\n",
        "        result.append(node.val)\n",
        "        node = node.next\n",
        "    return result\n",
        "\n",
        "\n",
        "# Example run\n",
        "l1 = list_to_linkedlist([2,4,3])\n",
        "l2 = list_to_linkedlist([5,6,4])\n",
        "\n",
        "solution = Solution()\n",
        "result = solution.addTwoNumbers(l1, l2)\n",
        "print(linkedlist_to_list(result))   # Expected Output: [7,0,8]\n"
      ],
      "metadata": {
        "colab": {
          "base_uri": "https://localhost:8080/"
        },
        "id": "p_kNerXnP-cz",
        "outputId": "9fd2c477-76b2-4c78-eef6-b846036d4d80"
      },
      "execution_count": 1,
      "outputs": [
        {
          "output_type": "stream",
          "name": "stdout",
          "text": [
            "[7, 0, 8]\n"
          ]
        }
      ]
    }
  ]
}